{
  "nbformat": 4,
  "nbformat_minor": 0,
  "metadata": {
    "colab": {
      "provenance": []
    },
    "kernelspec": {
      "name": "python3",
      "display_name": "Python 3"
    },
    "language_info": {
      "name": "python"
    }
  },
  "cells": [
    {
      "cell_type": "markdown",
      "source": [
        "# Goals\n",
        "* In this notebook we will implement and explore the cost function for linear\n",
        "regressions with one variable.\n",
        "\n",
        "# Tools\n",
        "In this analysis we will make use of:\n",
        "* NumPy\n",
        "* Matplotlib\n",
        "* Local plotting routines in lab_utils_uni.py"
      ],
      "metadata": {
        "id": "Pxp31luBy7Ce"
      }
    },
    {
      "cell_type": "code",
      "source": [
        "import numpy as np\n",
        "import matplotlib.pyplot as plt\n",
        "from lab_utils_uni import plt_intuition, plt_stationary, plt_update_onclick, soup_bowl\n",
        "plt.style.use('./deeplearning.mplstyle')\n",
        "%matplotlib inline"
      ],
      "metadata": {
        "id": "BfyR7Eruz54D"
      },
      "execution_count": null,
      "outputs": []
    },
    {
      "cell_type": "markdown",
      "source": [
        "# Problem Statement\n",
        "We need to build a model that can predict housing prices given the size of the house. Let's use two houses for this example, one that is 1000 sq ft that sold for 300,000 and one that is 2000 sq ft that sold for 500,000"
      ],
      "metadata": {
        "id": "VT0csd4P1C1M"
      }
    },
    {
      "cell_type": "code",
      "source": [
        "x_train = np.array([1.0, 2.0])            #(size in 1000 sq ft)\n",
        "y_train = np.array([300.0, 500.0])        #(price in 1000s of dollars)"
      ],
      "metadata": {
        "id": "2uHGdkoJ1Y83"
      },
      "execution_count": null,
      "outputs": []
    },
    {
      "cell_type": "markdown",
      "source": [
        "## Computing Cost\n",
        "The term 'cost' in this analysis might be a little confusing since the data is housing cost. Here, cost is a measure how well our model is predicting the target price of the house. The term 'price' is used for housing data.\n",
        "\n",
        "The equation for cost with one variable is:\n",
        "  $$J(w,b) = \\frac{1}{2m} \\sum\\limits_{i = 0}^{m-1} (f_{w,b}(x^{(i)}) - y^{(i)})^2 \\tag{1}$$\n",
        "\n",
        "where\n",
        "  $$f_{w,b}(x^{(i)}) = wx^{(i)} + b \\tag{2}$$\n",
        "  \n",
        "- $f_{w,b}(x^{(i)})$ is our prediction for example $i$ using parameters $w,b$.  \n",
        "- $(f_{w,b}(x^{(i)}) -y^{(i)})^2$ is the squared difference between the target value and the prediction.   \n",
        "- These differences are summed over all the $m$ examples and divided by `2m` to produce the cost, $J(w,b)$.  \n",
        ">Note: Summation ranges are typically from 1 to m, while code will be from 0 to m-1."
      ],
      "metadata": {
        "id": "kGs9ITk31sOq"
      }
    },
    {
      "cell_type": "markdown",
      "source": [
        "The code below calculates cost by looping over each example. In each loop:\n",
        "\n",
        "* f_wb, a prediction is calculated\n",
        "* the difference between the target and the prediction is calculated and squared\n",
        "* this is added to the total cost"
      ],
      "metadata": {
        "id": "IV-0fU6Q25gh"
      }
    },
    {
      "cell_type": "code",
      "source": [
        "def compute_cost (x, y, w, b):\n",
        "  \"\"\"\n",
        "  Computes the cost function for linear regression.\n",
        "\n",
        "  Args:\n",
        "    x (ndarray (m,)): Data, m examples\n",
        "    y (ndarray (m,)): Target values\n",
        "    w,b (scalar)    : Model parameters\n",
        "\n",
        "  Returns\n",
        "    total_cost (float): The cost of using w,b as the parameters for linear regression\n",
        "                       to fit the data points in x and y\n",
        "  \"\"\"\n",
        "  # number of training examples\n",
        "  m = x.shape[0]\n",
        "\n",
        "  cost_sum = 0\n",
        "  for i in range(m):\n",
        "    f_wb = w * x[i] + b\n",
        "    cost = (f_wb - y[i]) ** 2\n",
        "    cost_sum = cost_sum + cost\n",
        "  total_cost = 1 / (2 * m) * cost_sum\n",
        "\n",
        "  return total_cost"
      ],
      "metadata": {
        "id": "UopJtx6o3HBP"
      },
      "execution_count": null,
      "outputs": []
    },
    {
      "cell_type": "markdown",
      "source": [
        "# Cost Function Intuition\n",
        "\n",
        "The goal now is to find a model $f_{w,b}(x) = wx + b$, with parameters $w,b$,  which will accurately predict house values given an input $x$. The cost is a measure of how accurate the model is on the training data.\n",
        "\n",
        "The cost equation shows that if $w$ and $b$ can be selected such that the predictions $f_{w,b}(x)$ match the target data $y$, the $(f_{w,b}(x^{(i)}) - y^{(i)})^2 $ term will be zero and the cost minimized. In this simple two point example with limited variables, it's relatively easy to be able to achieve this\n",
        "\n",
        "Let's set $b$ to 100 and focus on $w$.\n",
        "\n",
        ">Below, use the slider control to select the value of $w$ that minimizes cost. It can take a few seconds for the plot to update."
      ],
      "metadata": {
        "id": "7yNEz20-4Lne"
      }
    },
    {
      "cell_type": "code",
      "source": [
        "plt_intuition(x_train,y_train)"
      ],
      "metadata": {
        "id": "vTqMCSC13YaW"
      },
      "execution_count": null,
      "outputs": []
    },
    {
      "cell_type": "markdown",
      "source": [
        "The plot contains a few points that are worth mentioning.\n",
        "- Cost is minimized when $w = 200$\n",
        "- Because the difference between the target and pediction is squared in the cost equation, the cost increases rapidly when $w$ is either too large or too small.\n",
        "- Using the `w` and `b` selected by minimizing cost results in a line which is a perfect fit to the data."
      ],
      "metadata": {
        "id": "-tfJLU-76jgu"
      }
    },
    {
      "cell_type": "markdown",
      "source": [
        "## Cost Function Visualization- 3D\n",
        "\n",
        "Now we can see how cost varies with respect to *both* `w` and `b` by plotting in 3D or using a contour plot."
      ],
      "metadata": {
        "id": "B4iZn8_nDnDF"
      }
    },
    {
      "cell_type": "markdown",
      "source": [
        "### Larger Data Set\n",
        "It is instructive to view a scenario with a few more data points. This data set includes data points that do not fall on the same line. What does that mean for the cost equation? Can we find $w$, and $b$ that will give us a cost of 0?"
      ],
      "metadata": {
        "id": "WKuAaPUwDmtB"
      }
    },
    {
      "cell_type": "code",
      "source": [
        "x_train = np.array([1.0, 1.7, 2.0, 2.5, 3.0, 3.0])\n",
        "y_train = np.array([250, 300, 480, 430, 630, 730])"
      ],
      "metadata": {
        "id": "l8nz45haD-Ts"
      },
      "execution_count": null,
      "outputs": []
    },
    {
      "cell_type": "markdown",
      "source": [
        "In the contour plot, click on a point to select `w` and `b` to achieve the lowest cost. Use the contours to guide your selections. Note, it can take a few seconds to update the graph."
      ],
      "metadata": {
        "id": "-tkqcb0wEKyV"
      }
    },
    {
      "cell_type": "code",
      "source": [
        "plt.close('all')\n",
        "fig, ax, dyn_items = plt_stationary(x_train, y_train)\n",
        "updater = plt_update_onclick(fig, ax, x_train, y_train, dyn_items)"
      ],
      "metadata": {
        "id": "GvKmLqfZEI_F"
      },
      "execution_count": null,
      "outputs": []
    },
    {
      "cell_type": "markdown",
      "source": [
        "Above, note the dashed lines in the left plot. These represent the portion of the cost contributed by each example in the training set we built. In this case, values of approximately  𝑤=209\n",
        "  and  𝑏=2.4\n",
        "  provide low cost. Note that, because our training examples are not on a line, the minimum cost is not zero."
      ],
      "metadata": {
        "id": "sAQsqOJjEX9E"
      }
    },
    {
      "cell_type": "markdown",
      "source": [
        "# Congratulations!\n",
        "You have learned the following:\n",
        " - The cost equation provides a measure of how well your predictions match your training data.\n",
        " - Minimizing the cost can provide optimal values of $w$, $b$."
      ],
      "metadata": {
        "id": "s6KkpaQoEqLM"
      }
    }
  ]
}